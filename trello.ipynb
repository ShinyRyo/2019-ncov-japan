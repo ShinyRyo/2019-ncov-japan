{
  "nbformat": 4,
  "nbformat_minor": 0,
  "metadata": {
    "colab": {
      "name": "trello.ipynb",
      "provenance": [],
      "authorship_tag": "ABX9TyNjGebwYYsCvaNOmVuLcOR5",
      "include_colab_link": true
    },
    "kernelspec": {
      "name": "python3",
      "display_name": "Python 3"
    }
  },
  "cells": [
    {
      "cell_type": "markdown",
      "metadata": {
        "id": "view-in-github",
        "colab_type": "text"
      },
      "source": [
        "<a href=\"https://colab.research.google.com/github/ShinyRyo/2019-ncov-japan/blob/master/trello.ipynb\" target=\"_parent\"><img src=\"https://colab.research.google.com/assets/colab-badge.svg\" alt=\"Open In Colab\"/></a>"
      ]
    },
    {
      "cell_type": "markdown",
      "metadata": {
        "id": "TNR3GxZmyMPb",
        "colab_type": "text"
      },
      "source": [
        "https://note.com/ponzu_wo_ikki/n/nff8f8bcc885b"
      ]
    },
    {
      "cell_type": "code",
      "metadata": {
        "id": "rGT7Te8jyJtn",
        "colab_type": "code",
        "outputId": "2a832333-c7d4-4e0b-91f0-62ce75d43ea0",
        "colab": {
          "base_uri": "https://localhost:8080/",
          "height": 351
        }
      },
      "source": [
        "!pip install py-trello"
      ],
      "execution_count": 1,
      "outputs": [
        {
          "output_type": "stream",
          "text": [
            "Collecting py-trello\n",
            "  Downloading https://files.pythonhosted.org/packages/30/ba/a2bbc6103c6a20f2d8e9450fbed556afad22f5952514e7806a664b909526/py-trello-0.16.0.tar.gz\n",
            "Requirement already satisfied: requests in /usr/local/lib/python3.6/dist-packages (from py-trello) (2.21.0)\n",
            "Requirement already satisfied: requests-oauthlib>=0.4.1 in /usr/local/lib/python3.6/dist-packages (from py-trello) (1.3.0)\n",
            "Requirement already satisfied: python-dateutil in /usr/local/lib/python3.6/dist-packages (from py-trello) (2.8.1)\n",
            "Requirement already satisfied: pytz in /usr/local/lib/python3.6/dist-packages (from py-trello) (2018.9)\n",
            "Requirement already satisfied: urllib3<1.25,>=1.21.1 in /usr/local/lib/python3.6/dist-packages (from requests->py-trello) (1.24.3)\n",
            "Requirement already satisfied: chardet<3.1.0,>=3.0.2 in /usr/local/lib/python3.6/dist-packages (from requests->py-trello) (3.0.4)\n",
            "Requirement already satisfied: idna<2.9,>=2.5 in /usr/local/lib/python3.6/dist-packages (from requests->py-trello) (2.8)\n",
            "Requirement already satisfied: certifi>=2017.4.17 in /usr/local/lib/python3.6/dist-packages (from requests->py-trello) (2020.4.5.1)\n",
            "Requirement already satisfied: oauthlib>=3.0.0 in /usr/local/lib/python3.6/dist-packages (from requests-oauthlib>=0.4.1->py-trello) (3.1.0)\n",
            "Requirement already satisfied: six>=1.5 in /usr/local/lib/python3.6/dist-packages (from python-dateutil->py-trello) (1.12.0)\n",
            "Building wheels for collected packages: py-trello\n",
            "  Building wheel for py-trello (setup.py) ... \u001b[?25l\u001b[?25hdone\n",
            "  Created wheel for py-trello: filename=py_trello-0.16.0-cp36-none-any.whl size=37334 sha256=1d4fd95d58c81558b50925376a5c1e96634ee1d2d901c9f2758b6a52cd9fd76d\n",
            "  Stored in directory: /root/.cache/pip/wheels/6a/6b/fb/3942041417e85d519ef4188742d820748d21af092d743ace43\n",
            "Successfully built py-trello\n",
            "Installing collected packages: py-trello\n",
            "Successfully installed py-trello-0.16.0\n"
          ],
          "name": "stdout"
        }
      ]
    },
    {
      "cell_type": "code",
      "metadata": {
        "id": "Uf_DtUXMyGi3",
        "colab_type": "code",
        "colab": {}
      },
      "source": [
        "#trello apiに入る\n",
        "#https://trello.com/app-key"
      ],
      "execution_count": 0,
      "outputs": []
    },
    {
      "cell_type": "code",
      "metadata": {
        "id": "anZpLALfJuhb",
        "colab_type": "code",
        "colab": {}
      },
      "source": [
        "#8200862a05fb92bd5cc623ceb6fb30f5 : key"
      ],
      "execution_count": 0,
      "outputs": []
    },
    {
      "cell_type": "code",
      "metadata": {
        "id": "fj0XhY2gJ7Xa",
        "colab_type": "code",
        "colab": {}
      },
      "source": [
        "#5501403ecf486b8861ab505f89c726ee31227b2292d9b908ebdc7c0230e3ee54 : token"
      ],
      "execution_count": 0,
      "outputs": []
    },
    {
      "cell_type": "code",
      "metadata": {
        "id": "0AdMh8IrKDXv",
        "colab_type": "code",
        "colab": {}
      },
      "source": [
        "#https://trello.com/app-key"
      ],
      "execution_count": 0,
      "outputs": []
    },
    {
      "cell_type": "code",
      "metadata": {
        "id": "5NfsIDYQKLz9",
        "colab_type": "code",
        "colab": {}
      },
      "source": [
        "#882578a17c1354654f4fbb8fb304465384277883f8460edd501f9022abf8d6c4 : secret"
      ],
      "execution_count": 0,
      "outputs": []
    },
    {
      "cell_type": "markdown",
      "metadata": {
        "id": "FsKcZkhNPEfa",
        "colab_type": "text"
      },
      "source": [
        "https://qiita.com/nozomale/items/c2c30fc2a8a89b37e921"
      ]
    },
    {
      "cell_type": "code",
      "metadata": {
        "id": "YyKckDpEPBUf",
        "colab_type": "code",
        "colab": {}
      },
      "source": [
        "from trello import TrelloClient\n",
        "import dateutil.parser\n",
        "from pytz import timezone\n",
        "\n",
        "client = TrelloClient(\n",
        "    api_key='8200862a05fb92bd5cc623ceb6fb30f5',\n",
        "    api_secret='882578a17c1354654f4fbb8fb304465384277883f8460edd501f9022abf8d6c4',\n",
        "    token='5501403ecf486b8861ab505f89c726ee31227b2292d9b908ebdc7c0230e3ee54'\n",
        ")"
      ],
      "execution_count": 0,
      "outputs": []
    },
    {
      "cell_type": "code",
      "metadata": {
        "id": "-LshZoXhN9X6",
        "colab_type": "code",
        "colab": {
          "base_uri": "https://localhost:8080/",
          "height": 246
        },
        "outputId": "cb769226-1f4e-4ec4-ae8d-0486f091db63"
      },
      "source": [
        "board = client.list_boards()\n",
        "board"
      ],
      "execution_count": 5,
      "outputs": [
        {
          "output_type": "execute_result",
          "data": {
            "text/plain": [
              "[<Board 2019Winter【GCIデータサイエンス講座】>,\n",
              " <Board Welcome Board>,\n",
              " <Board hello_app>,\n",
              " <Board ry0>,\n",
              " <Board takahashi>,\n",
              " <Board yamaguchi>,\n",
              " <Board インフォメーション>,\n",
              " <Board チームシャイニー活動ボード>,\n",
              " <Board 個別支援計画>,\n",
              " <Board 学習ボード>,\n",
              " <Board 投書箱>,\n",
              " <Board 質問箱>,\n",
              " <Board 長沼学習>]"
            ]
          },
          "metadata": {
            "tags": []
          },
          "execution_count": 5
        }
      ]
    },
    {
      "cell_type": "code",
      "metadata": {
        "id": "l3czsfT7Vfct",
        "colab_type": "code",
        "outputId": "fdff59fc-9e25-4e46-effb-379e7a82f365",
        "colab": {
          "base_uri": "https://localhost:8080/",
          "height": 107
        }
      },
      "source": [
        "# ボード内の全てのカードを表示\n",
        "board = client.list_boards()[2]\n",
        "cards = board.get_cards()\n",
        " \n",
        "for card in cards:\n",
        "    print(card.name)  # カード名の表示\n",
        "    print(card.desc)  # カードの説明を表示\n",
        "    print(card.comments)  # カードのactivityを表示\n",
        "    print(card.attach)  # カードのactivityを表示"
      ],
      "execution_count": 26,
      "outputs": [
        {
          "output_type": "stream",
          "text": [
            "test\n",
            "testdesuyo!\n",
            "[{'id': '5ea7c46f36762212a4f99ed7', 'idMemberCreator': '5b0dd0dc5674fab4a49c0a92', 'data': {'text': 'activitydesuyo1', 'card': {'id': '5ea7c25b17c79c7dc930255a', 'name': 'test', 'idShort': 1, 'shortLink': 'JsNUFIpc'}, 'board': {'id': '5b0dd10152ccfa62308cfaf8', 'name': 'hello_app', 'shortLink': 'pdnbLcUO'}, 'list': {'id': '5ea7c21cf10dfe399c9b86f6', 'name': 'Test2'}}, 'type': 'commentCard', 'date': '2020-04-28T05:51:43.874Z', 'limits': {'reactions': {'perAction': {'status': 'ok', 'disableAt': 1000, 'warnAt': 900}, 'uniquePerAction': {'status': 'ok', 'disableAt': 17, 'warnAt': 16}}}, 'memberCreator': {'id': '5b0dd0dc5674fab4a49c0a92', 'username': '2xx40592897', 'activityBlocked': False, 'avatarHash': None, 'avatarUrl': None, 'fullName': '田之畑諒2', 'idMemberReferrer': None, 'initials': '田', 'nonPublic': {}, 'nonPublicAvailable': False}}]\n",
            "<bound method Card.attach of <Card test>>\n"
          ],
          "name": "stdout"
        }
      ]
    },
    {
      "cell_type": "code",
      "metadata": {
        "id": "U5OGm73rSnWn",
        "colab_type": "code",
        "colab": {
          "base_uri": "https://localhost:8080/",
          "height": 54
        },
        "outputId": "95d62f3b-603b-4978-b3cb-f1fad638a9e3"
      },
      "source": [
        "for card in cards:\n",
        "  print(dir(card))"
      ],
      "execution_count": 13,
      "outputs": [
        {
          "output_type": "stream",
          "text": [
            "['__class__', '__delattr__', '__dict__', '__dir__', '__doc__', '__eq__', '__format__', '__ge__', '__getattribute__', '__gt__', '__hash__', '__init__', '__init_subclass__', '__le__', '__lt__', '__module__', '__ne__', '__new__', '__reduce__', '__reduce_ex__', '__repr__', '__setattr__', '__sizeof__', '__str__', '__subclasshook__', '__weakref__', '_attachments', '_checklists', '_comments', '_json_obj', '_labels', '_list_movements', '_movement_as_dict', '_movement_as_triplet', '_plugin_data', '_post_remote_data', '_set_due_complete', '_set_remote_attribute', 'add_checklist', 'add_label', 'add_member', 'assign', 'attach', 'attachments', 'attriExp', 'badges', 'board', 'board_id', 'card_created_date', 'change_board', 'change_list', 'change_pos', 'checklists', 'client', 'closed', 'comment', 'comments', 'create_label', 'created_date', 'customFields', 'custom_fields', 'dateLastActivity', 'date_last_activity', 'delete', 'delete_comment', 'desc', 'description', 'due', 'due_date', 'fetch', 'fetch_actions', 'fetch_attachments', 'fetch_checklists', 'fetch_comments', 'fetch_custom_fields', 'fetch_plugin_data', 'from_json', 'get_attachments', 'get_comments', 'get_custom_field_by_name', 'get_list', 'get_stats_by_list', 'id', 'idBoard', 'idLabels', 'idList', 'idMembers', 'idShort', 'is_due_complete', 'labels', 'latestCardMove_date', 'listCardMove_date', 'list_id', 'list_movements', 'member_id', 'member_ids', 'name', 'plugin_data', 'pos', 'remove_attachment', 'remove_due', 'remove_due_complete', 'remove_label', 'remove_member', 'set_closed', 'set_custom_field', 'set_description', 'set_due', 'set_due_complete', 'set_name', 'set_pos', 'shortUrl', 'short_id', 'short_url', 'subscribe', 'unassign', 'update_comment', 'url']\n"
          ],
          "name": "stdout"
        }
      ]
    },
    {
      "cell_type": "code",
      "metadata": {
        "id": "x-iDd3lAV5X-",
        "colab_type": "code",
        "outputId": "bc426d9e-4ccf-442d-b236-342237e9d372",
        "colab": {
          "base_uri": "https://localhost:8080/",
          "height": 34
        }
      },
      "source": [
        "# This code sample uses the 'requests' library:\n",
        "# http://docs.python-requests.org\n",
        "import requests\n",
        "import json\n",
        "\n",
        "url = \"https://api.trello.com/1/actions/8200862a05fb92bd5cc623ceb6fb30f5/data\"\n",
        "\n",
        "headers = {\n",
        "   \"Accept\": \"application/json\"\n",
        "}\n",
        "\n",
        "response = requests.request(\n",
        "   \"GET\",\n",
        "   url,\n",
        "   headers=headers\n",
        ")\n",
        "\n",
        "print(response.text)\n",
        "#print(json.dumps(json.loads(response.text), sort_keys=True, indent=4, separators=(\",\", \": \")))"
      ],
      "execution_count": 11,
      "outputs": [
        {
          "output_type": "stream",
          "text": [
            "invalid id\n"
          ],
          "name": "stdout"
        }
      ]
    },
    {
      "cell_type": "code",
      "metadata": {
        "id": "DHjLAlTKPKdM",
        "colab_type": "code",
        "outputId": "6cf2660a-2be8-4495-f3ff-14fc519e4b27",
        "colab": {
          "base_uri": "https://localhost:8080/",
          "height": 238
        }
      },
      "source": [
        "client.list_boards()"
      ],
      "execution_count": 0,
      "outputs": [
        {
          "output_type": "execute_result",
          "data": {
            "text/plain": [
              "[<Board 2019Winter【GCIデータサイエンス講座】>,\n",
              " <Board Welcome Board>,\n",
              " <Board hello_app>,\n",
              " <Board ry0>,\n",
              " <Board takahashi>,\n",
              " <Board yamaguchi>,\n",
              " <Board インフォメーション>,\n",
              " <Board チームシャイニー活動ボード>,\n",
              " <Board 個別支援計画>,\n",
              " <Board 学習ボード>,\n",
              " <Board 投書箱>,\n",
              " <Board 質問箱>,\n",
              " <Board 長沼学習>]"
            ]
          },
          "metadata": {
            "tags": []
          },
          "execution_count": 33
        }
      ]
    },
    {
      "cell_type": "code",
      "metadata": {
        "id": "nVBlrFRMPTxJ",
        "colab_type": "code",
        "outputId": "4ac14758-56cf-4b1c-cf25-fd2f4cd4b194",
        "colab": {
          "base_uri": "https://localhost:8080/",
          "height": 34
        }
      },
      "source": [
        "test_board = client.list_boards()[2]\n",
        "test_board.all_members()"
      ],
      "execution_count": 0,
      "outputs": [
        {
          "output_type": "execute_result",
          "data": {
            "text/plain": [
              "[<Member 5b0dd0dc5674fab4a49c0a92>]"
            ]
          },
          "metadata": {
            "tags": []
          },
          "execution_count": 21
        }
      ]
    },
    {
      "cell_type": "code",
      "metadata": {
        "id": "Z2vK-UJYPdOw",
        "colab_type": "code",
        "outputId": "2cebfcca-3c52-4e3e-bf2d-722a1243d20b",
        "colab": {
          "base_uri": "https://localhost:8080/",
          "height": 34
        }
      },
      "source": [
        "test_board.get_labels()"
      ],
      "execution_count": 0,
      "outputs": [
        {
          "output_type": "execute_result",
          "data": {
            "text/plain": [
              "[<Label >, <Label >, <Label >, <Label >, <Label >, <Label >]"
            ]
          },
          "metadata": {
            "tags": []
          },
          "execution_count": 22
        }
      ]
    },
    {
      "cell_type": "code",
      "metadata": {
        "id": "xpi4FryxRBdw",
        "colab_type": "code",
        "outputId": "50bbfe4b-81bd-42f5-d9c7-a29678f310fc",
        "colab": {
          "base_uri": "https://localhost:8080/",
          "height": 34
        }
      },
      "source": [
        "test_board.get_labels()"
      ],
      "execution_count": 0,
      "outputs": [
        {
          "output_type": "execute_result",
          "data": {
            "text/plain": [
              "[<Label >, <Label >, <Label >, <Label >, <Label >, <Label >]"
            ]
          },
          "metadata": {
            "tags": []
          },
          "execution_count": 23
        }
      ]
    },
    {
      "cell_type": "code",
      "metadata": {
        "id": "2z8B1psmzB11",
        "colab_type": "code",
        "outputId": "4eef6221-2139-4d5c-c28c-4b29a5635a56",
        "colab": {
          "base_uri": "https://localhost:8080/",
          "height": 34
        }
      },
      "source": [
        "test_label = test_board.get_labels()[0]\n",
        "test_label"
      ],
      "execution_count": 0,
      "outputs": [
        {
          "output_type": "execute_result",
          "data": {
            "text/plain": [
              "<Label >"
            ]
          },
          "metadata": {
            "tags": []
          },
          "execution_count": 24
        }
      ]
    },
    {
      "cell_type": "code",
      "metadata": {
        "id": "DEQuRFpXMVPf",
        "colab_type": "code",
        "outputId": "e9f961f0-63ab-48c9-a4c7-c56312dd18de",
        "colab": {
          "base_uri": "https://localhost:8080/",
          "height": 34
        }
      },
      "source": [
        "test_board.list_lists()"
      ],
      "execution_count": 0,
      "outputs": [
        {
          "output_type": "execute_result",
          "data": {
            "text/plain": [
              "[<List Test2>, <List To Do>, <List Doing>, <List Done>]"
            ]
          },
          "metadata": {
            "tags": []
          },
          "execution_count": 30
        }
      ]
    },
    {
      "cell_type": "code",
      "metadata": {
        "id": "P27sFnJcLLDV",
        "colab_type": "code",
        "outputId": "37c14b40-75d2-4d26-f079-ad9444f85f68",
        "colab": {
          "base_uri": "https://localhost:8080/",
          "height": 34
        }
      },
      "source": [
        "test_board.add_list(\"Test2\")"
      ],
      "execution_count": 0,
      "outputs": [
        {
          "output_type": "execute_result",
          "data": {
            "text/plain": [
              "<List Test2>"
            ]
          },
          "metadata": {
            "tags": []
          },
          "execution_count": 26
        }
      ]
    },
    {
      "cell_type": "code",
      "metadata": {
        "id": "y_U6Xe2Y257N",
        "colab_type": "code",
        "outputId": "c553ab75-e7f6-4510-97e6-56f40902630b",
        "colab": {
          "base_uri": "https://localhost:8080/",
          "height": 34
        }
      },
      "source": [
        "test_board.all_cards()"
      ],
      "execution_count": 0,
      "outputs": [
        {
          "output_type": "execute_result",
          "data": {
            "text/plain": [
              "[<Card test>]"
            ]
          },
          "metadata": {
            "tags": []
          },
          "execution_count": 28
        }
      ]
    },
    {
      "cell_type": "code",
      "metadata": {
        "id": "Jc9XS3F5zeYl",
        "colab_type": "code",
        "colab": {}
      },
      "source": [
        "completed_list = test_board.list_lists()[0]"
      ],
      "execution_count": 0,
      "outputs": []
    },
    {
      "cell_type": "code",
      "metadata": {
        "id": "z564UmIi6Vmf",
        "colab_type": "code",
        "outputId": "e32fcba8-0f08-4395-f5dc-cb2bdfc4fa24",
        "colab": {
          "base_uri": "https://localhost:8080/",
          "height": 34
        }
      },
      "source": [
        "completed_list.list_cards()"
      ],
      "execution_count": 0,
      "outputs": [
        {
          "output_type": "execute_result",
          "data": {
            "text/plain": [
              "[<Card test>]"
            ]
          },
          "metadata": {
            "tags": []
          },
          "execution_count": 32
        }
      ]
    },
    {
      "cell_type": "code",
      "metadata": {
        "id": "OJkfnrTD7IBW",
        "colab_type": "code",
        "colab": {}
      },
      "source": [
        "#8200862a05fb92bd5cc623ceb6fb30f5　、キー\n",
        "#5501403ecf486b8861ab505f89c726ee31227b2292d9b908ebdc7c0230e3ee54、トークン"
      ],
      "execution_count": 0,
      "outputs": []
    },
    {
      "cell_type": "code",
      "metadata": {
        "id": "uLzMJHMq7uZ3",
        "colab_type": "code",
        "colab": {}
      },
      "source": [
        ""
      ],
      "execution_count": 0,
      "outputs": []
    }
  ]
}